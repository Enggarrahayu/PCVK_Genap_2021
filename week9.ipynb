{
  "nbformat": 4,
  "nbformat_minor": 0,
  "metadata": {
    "colab": {
      "name": "week9.ipynb",
      "provenance": [],
      "authorship_tag": "ABX9TyO6lMAx78i/wBmPEYjUFzie",
      "include_colab_link": true
    },
    "kernelspec": {
      "name": "python3",
      "display_name": "Python 3"
    },
    "language_info": {
      "name": "python"
    }
  },
  "cells": [
    {
      "cell_type": "markdown",
      "metadata": {
        "id": "view-in-github",
        "colab_type": "text"
      },
      "source": [
        "<a href=\"https://colab.research.google.com/github/Enggarrahayu/PCVK_Genap_2021/blob/main/week9.ipynb\" target=\"_parent\"><img src=\"https://colab.research.google.com/assets/colab-badge.svg\" alt=\"Open In Colab\"/></a>"
      ]
    },
    {
      "cell_type": "code",
      "metadata": {
        "id": "5kuG7QEPE8nu",
        "outputId": "7e1381b4-8550-4938-9532-974287ff6ffd",
        "colab": {
          "base_uri": "https://localhost:8080/",
          "height": 635
        }
      },
      "source": [
        "from google.colab import drive\n",
        "\n",
        "drive.mount('/content/drive')\n",
        "\n",
        "import cv2 as cv\n",
        "from google.colab.patches import cv2_imshow\n",
        "import numpy as np\n",
        "from skimage import io\n",
        "from skimage import transform\n",
        "import matplotlib.pyplot as plt\n",
        "from skimage.io import imread, imshow\n",
        "from skimage.morphology import (erosion, dilation, closing, opening, area_closing, area_opening)\n",
        "from skimage.color import rgb2gray\n",
        "\n",
        "# #number 3\n",
        "img = cv.imread('/content/drive/MyDrive/Images/j.png')\n",
        "\n",
        "# kernel = np.ones((5,5), np.uint8)\n",
        "# dilation = cv.dilate(img, kernel, iterations = 1)\n",
        "\n",
        "# plt.subplot(121),plt.imshow(img),plt.title('Initial Image')\n",
        "# plt.subplot(122),plt.imshow(dilation),plt.title('Dilated Result Image')\n",
        "\n",
        "#number 4\n",
        "# img1= cv.imread('/content/drive/MyDrive/Images/j.png', 0)\n",
        "\n",
        "# m,n= img1.shape \n",
        "\n",
        "# plt.imshow(img1, cmap=\"gray\")\n",
        "\n",
        "# k=5\n",
        "# SE= np.ones((k,k), dtype=np.uint8)\n",
        "# constant= (k-1)//2\n",
        "\n",
        "# imgErode= np.zeros((m,n), dtype=np.uint8)\n",
        "\n",
        "# for i in range(constant, m-constant):\n",
        "#   for j in range(constant,n-constant):\n",
        "#     temp= img1[i-constant:i+constant+1, j-constant:j+constant+1]\n",
        "#     product= temp*SE\n",
        "#     imgErode[i,j]= np.min(product)\n",
        "# plt.subplot(121), plt.imshow(img1, cmap =\"gray\"), plt.title('Initial Image')\n",
        "# plt.subplot(122), plt.imshow(imgErode, cmap=\"gray\"), plt.title('Erosion Result Image')\n",
        "\n",
        "\n",
        "#number 5\n",
        "# kernel = np.ones((5,5), np.uint8)\n",
        "# dilation = cv.morphologyEx(img, cv.MORPH_DILATE, kernel)\n",
        "\n",
        "# plt.subplot(121), plt.imshow(img), plt.title('Initial Image')\n",
        "# plt.subplot(122), plt.imshow(dilation), plt.title('Erosion Result Image')\n",
        "\n",
        "#number 6\n",
        "kernel = np.ones((5,5), np.uint8)\n",
        "erosion = cv.morphologyEx(img, cv.MORPH_ERODE, kernel)\n",
        "\n",
        "plt.subplot(121), plt.imshow(img), plt.title('Initial Image')\n",
        "plt.subplot(122), plt.imshow(erosion), plt.title('Erosion Result Image')\n",
        "\n",
        "\n",
        "#number 7\n",
        "kernel = np.ones((7,7), np.uint8)\n",
        "opening = cv.morphologyEx(img, cv.MORPH_OPEN, kernel)\n",
        "\n",
        "plt.subplot(121), plt.imshow(img), plt.title('Initial Image')\n",
        "plt.subplot(122), plt.imshow(opening), plt.title('Opening Result Image')\n",
        "\n",
        "\n",
        "#number 8\n",
        "kernel = np.ones((7,7), np.uint8)\n",
        "closing = cv.morphologyEx(img, cv.MORPH_CLOSE, kernel)\n",
        "\n",
        "plt.subplot(121), plt.imshow(img), plt.title('Initial Image')\n",
        "plt.subplot(122), plt.imshow(closing), plt.title('Closing Result Image')\n",
        "\n",
        "#number 9\n",
        "kernel = cv.getStructuringElement(cv.MORPH_CROSS, (3, 3))\n",
        "cross3 = cv.morphologyEx(img, cv.MORPH_DILATE, kernel)\n",
        "\n",
        "plt.subplot(121), plt.imshow(img), plt.title('Initial Image')\n",
        "plt.subplot(122), plt.imshow(cross3), plt.title('3x3 Dilation Result Image')\n",
        "\n",
        "#number 10\n",
        "kernel = cv.getStructuringElement(cv.MORPH_ELLIPSE, (3, 3))\n",
        "cross3 = cv.morphologyEx(img, cv.MORPH_DILATE, kernel)\n",
        "plt.subplot(121), plt.imshow(img), plt.title('Initial Image')\n",
        "plt.subplot(122), plt.imshow(cross3), plt.title('3x3 Circular Result Image')\n",
        "\n",
        "kernel = cv.getStructuringElement(cv.MORPH_ELLIPSE, (5, 5))\n",
        "cross3 = cv.morphologyEx(img, cv.MORPH_DILATE, kernel)\n",
        "plt.subplot(121), plt.imshow(img), plt.title('Initial Image')\n",
        "plt.subplot(122), plt.imshow(cross3), plt.title('5x5 Circular Result Image')\n",
        "\n",
        "\n",
        "#number 11\n",
        "kernel = cv.getStructuringElement(cv.MORPH_RECT, (3, 3))\n",
        "cross3 = cv.morphologyEx(img, cv.MORPH_ERODE, kernel)\n",
        "plt.subplot(121), plt.imshow(img), plt.title('Initial Image')\n",
        "plt.subplot(122), plt.imshow(cross3), plt.title('3x3 Rectangle Result Image')\n",
        "\n",
        "kernel = cv.getStructuringElement(cv.MORPH_RECT, (5, 5))\n",
        "cross3 = cv.morphologyEx(img, cv.MORPH_ERODE, kernel)\n",
        "plt.subplot(121), plt.imshow(img), plt.title('Initial Image')\n",
        "plt.subplot(122), plt.imshow(cross3), plt.title('Rectangle 5x5 Result Image')\n",
        "\n",
        "\n",
        "#number 12\n",
        "kernel = cv.getStructuringElement(cv.MORPH_RECT, (5, 5))\n",
        "cross4 = cv.morphologyEx(img, cv.MORPH_ERODE, kernel)\n",
        "plt.subplot(121), plt.imshow(img), plt.title('Initial Image')\n",
        "plt.subplot(122), plt.imshow(cross4), plt.title('Line Vertical Result Image 5')"
      ],
      "execution_count": 10,
      "outputs": [
        {
          "output_type": "stream",
          "text": [
            "Drive already mounted at /content/drive; to attempt to forcibly remount, call drive.mount(\"/content/drive\", force_remount=True).\n"
          ],
          "name": "stdout"
        },
        {
          "output_type": "stream",
          "text": [
            "/usr/local/lib/python3.7/dist-packages/ipykernel_launcher.py:65: MatplotlibDeprecationWarning: Adding an axes using the same arguments as a previous axes currently reuses the earlier instance.  In a future version, a new instance will always be created and returned.  Meanwhile, this warning can be suppressed, and the future behavior ensured, by passing a unique label to each axes instance.\n",
            "/usr/local/lib/python3.7/dist-packages/ipykernel_launcher.py:66: MatplotlibDeprecationWarning: Adding an axes using the same arguments as a previous axes currently reuses the earlier instance.  In a future version, a new instance will always be created and returned.  Meanwhile, this warning can be suppressed, and the future behavior ensured, by passing a unique label to each axes instance.\n",
            "/usr/local/lib/python3.7/dist-packages/ipykernel_launcher.py:73: MatplotlibDeprecationWarning: Adding an axes using the same arguments as a previous axes currently reuses the earlier instance.  In a future version, a new instance will always be created and returned.  Meanwhile, this warning can be suppressed, and the future behavior ensured, by passing a unique label to each axes instance.\n",
            "/usr/local/lib/python3.7/dist-packages/ipykernel_launcher.py:74: MatplotlibDeprecationWarning: Adding an axes using the same arguments as a previous axes currently reuses the earlier instance.  In a future version, a new instance will always be created and returned.  Meanwhile, this warning can be suppressed, and the future behavior ensured, by passing a unique label to each axes instance.\n",
            "/usr/local/lib/python3.7/dist-packages/ipykernel_launcher.py:80: MatplotlibDeprecationWarning: Adding an axes using the same arguments as a previous axes currently reuses the earlier instance.  In a future version, a new instance will always be created and returned.  Meanwhile, this warning can be suppressed, and the future behavior ensured, by passing a unique label to each axes instance.\n",
            "/usr/local/lib/python3.7/dist-packages/ipykernel_launcher.py:81: MatplotlibDeprecationWarning: Adding an axes using the same arguments as a previous axes currently reuses the earlier instance.  In a future version, a new instance will always be created and returned.  Meanwhile, this warning can be suppressed, and the future behavior ensured, by passing a unique label to each axes instance.\n",
            "/usr/local/lib/python3.7/dist-packages/ipykernel_launcher.py:86: MatplotlibDeprecationWarning: Adding an axes using the same arguments as a previous axes currently reuses the earlier instance.  In a future version, a new instance will always be created and returned.  Meanwhile, this warning can be suppressed, and the future behavior ensured, by passing a unique label to each axes instance.\n",
            "/usr/local/lib/python3.7/dist-packages/ipykernel_launcher.py:87: MatplotlibDeprecationWarning: Adding an axes using the same arguments as a previous axes currently reuses the earlier instance.  In a future version, a new instance will always be created and returned.  Meanwhile, this warning can be suppressed, and the future behavior ensured, by passing a unique label to each axes instance.\n",
            "/usr/local/lib/python3.7/dist-packages/ipykernel_launcher.py:91: MatplotlibDeprecationWarning: Adding an axes using the same arguments as a previous axes currently reuses the earlier instance.  In a future version, a new instance will always be created and returned.  Meanwhile, this warning can be suppressed, and the future behavior ensured, by passing a unique label to each axes instance.\n",
            "/usr/local/lib/python3.7/dist-packages/ipykernel_launcher.py:92: MatplotlibDeprecationWarning: Adding an axes using the same arguments as a previous axes currently reuses the earlier instance.  In a future version, a new instance will always be created and returned.  Meanwhile, this warning can be suppressed, and the future behavior ensured, by passing a unique label to each axes instance.\n",
            "/usr/local/lib/python3.7/dist-packages/ipykernel_launcher.py:98: MatplotlibDeprecationWarning: Adding an axes using the same arguments as a previous axes currently reuses the earlier instance.  In a future version, a new instance will always be created and returned.  Meanwhile, this warning can be suppressed, and the future behavior ensured, by passing a unique label to each axes instance.\n",
            "/usr/local/lib/python3.7/dist-packages/ipykernel_launcher.py:99: MatplotlibDeprecationWarning: Adding an axes using the same arguments as a previous axes currently reuses the earlier instance.  In a future version, a new instance will always be created and returned.  Meanwhile, this warning can be suppressed, and the future behavior ensured, by passing a unique label to each axes instance.\n",
            "/usr/local/lib/python3.7/dist-packages/ipykernel_launcher.py:103: MatplotlibDeprecationWarning: Adding an axes using the same arguments as a previous axes currently reuses the earlier instance.  In a future version, a new instance will always be created and returned.  Meanwhile, this warning can be suppressed, and the future behavior ensured, by passing a unique label to each axes instance.\n",
            "/usr/local/lib/python3.7/dist-packages/ipykernel_launcher.py:104: MatplotlibDeprecationWarning: Adding an axes using the same arguments as a previous axes currently reuses the earlier instance.  In a future version, a new instance will always be created and returned.  Meanwhile, this warning can be suppressed, and the future behavior ensured, by passing a unique label to each axes instance.\n",
            "/usr/local/lib/python3.7/dist-packages/ipykernel_launcher.py:110: MatplotlibDeprecationWarning: Adding an axes using the same arguments as a previous axes currently reuses the earlier instance.  In a future version, a new instance will always be created and returned.  Meanwhile, this warning can be suppressed, and the future behavior ensured, by passing a unique label to each axes instance.\n",
            "/usr/local/lib/python3.7/dist-packages/ipykernel_launcher.py:111: MatplotlibDeprecationWarning: Adding an axes using the same arguments as a previous axes currently reuses the earlier instance.  In a future version, a new instance will always be created and returned.  Meanwhile, this warning can be suppressed, and the future behavior ensured, by passing a unique label to each axes instance.\n"
          ],
          "name": "stderr"
        },
        {
          "output_type": "execute_result",
          "data": {
            "text/plain": [
              "(<matplotlib.axes._subplots.AxesSubplot at 0x7f60db3a3450>,\n",
              " <matplotlib.image.AxesImage at 0x7f60db398290>,\n",
              " Text(0.5, 1.0, 'Line Vertical Result Image 5'))"
            ]
          },
          "metadata": {
            "tags": []
          },
          "execution_count": 10
        },
        {
          "output_type": "display_data",
          "data": {
            "image/png": "[encoded data removed]",
            "text/plain": [
              "<Figure size 432x288 with 2 Axes>"
            ]
          },
          "metadata": {
            "tags": [],
            "needs_background": "light"
          }
        }
      ]
    }
  ]
}